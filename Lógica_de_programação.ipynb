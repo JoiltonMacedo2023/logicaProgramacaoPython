{
  "nbformat": 4,
  "nbformat_minor": 0,
  "metadata": {
    "colab": {
      "provenance": [],
      "authorship_tag": "ABX9TyNMa7C6Cga1I5OHkC/cy/Nw",
      "include_colab_link": true
    },
    "kernelspec": {
      "name": "python3",
      "display_name": "Python 3"
    },
    "language_info": {
      "name": "python"
    }
  },
  "cells": [
    {
      "cell_type": "markdown",
      "metadata": {
        "id": "view-in-github",
        "colab_type": "text"
      },
      "source": [
        "<a href=\"https://colab.research.google.com/github/JoiltonMacedo2023/logicaProgramacaoPython/blob/main/L%C3%B3gica_de_programa%C3%A7%C3%A3o.ipynb\" target=\"_parent\"><img src=\"https://colab.research.google.com/assets/colab-badge.svg\" alt=\"Open In Colab\"/></a>"
      ]
    },
    {
      "cell_type": "markdown",
      "source": [
        "## **Lógica de programação com python**"
      ],
      "metadata": {
        "id": "DRHQj6gikps4"
      }
    },
    {
      "cell_type": "code",
      "source": [
        "1 * 2"
      ],
      "metadata": {
        "colab": {
          "base_uri": "https://localhost:8080/"
        },
        "id": "25AjEIL3kime",
        "outputId": "79a0b291-a551-4bc3-a67d-272eecca3bed"
      },
      "execution_count": null,
      "outputs": [
        {
          "output_type": "execute_result",
          "data": {
            "text/plain": [
              "2"
            ]
          },
          "metadata": {},
          "execution_count": 1
        }
      ]
    },
    {
      "cell_type": "code",
      "source": [
        "\"ton\""
      ],
      "metadata": {
        "colab": {
          "base_uri": "https://localhost:8080/",
          "height": 35
        },
        "id": "keMs2-Mbk15q",
        "outputId": "582df162-cefa-4ca4-a0b5-06d80ea4746e"
      },
      "execution_count": null,
      "outputs": [
        {
          "output_type": "execute_result",
          "data": {
            "text/plain": [
              "'ton'"
            ],
            "application/vnd.google.colaboratory.intrinsic+json": {
              "type": "string"
            }
          },
          "metadata": {},
          "execution_count": 1
        }
      ]
    },
    {
      "cell_type": "code",
      "source": [
        "nome = 'Joilton'"
      ],
      "metadata": {
        "id": "Mj9IP91Ik9Hg"
      },
      "execution_count": null,
      "outputs": []
    },
    {
      "cell_type": "code",
      "source": [
        "nome"
      ],
      "metadata": {
        "colab": {
          "base_uri": "https://localhost:8080/",
          "height": 35
        },
        "id": "jFHwN9CYlEoF",
        "outputId": "29e9eeeb-1fa1-4119-ca1f-4e0984af93f7"
      },
      "execution_count": null,
      "outputs": [
        {
          "output_type": "execute_result",
          "data": {
            "text/plain": [
              "'Joilton'"
            ],
            "application/vnd.google.colaboratory.intrinsic+json": {
              "type": "string"
            }
          },
          "metadata": {},
          "execution_count": 4
        }
      ]
    },
    {
      "cell_type": "code",
      "source": [
        "idade = 41"
      ],
      "metadata": {
        "id": "5VNEjlCOlHbn"
      },
      "execution_count": null,
      "outputs": []
    },
    {
      "cell_type": "code",
      "source": [
        "idade"
      ],
      "metadata": {
        "colab": {
          "base_uri": "https://localhost:8080/"
        },
        "id": "3WfuUYcvlKLt",
        "outputId": "499f30df-259c-4aa5-975a-a0e231a4347c"
      },
      "execution_count": null,
      "outputs": [
        {
          "output_type": "execute_result",
          "data": {
            "text/plain": [
              "41"
            ]
          },
          "metadata": {},
          "execution_count": 6
        }
      ]
    },
    {
      "cell_type": "code",
      "source": [
        "print('O nome é Joilton e sua idade é 30 anos')"
      ],
      "metadata": {
        "colab": {
          "base_uri": "https://localhost:8080/"
        },
        "id": "kPfU6WaflL72",
        "outputId": "64973efb-dff5-4851-c5e6-28ffc2cdc832"
      },
      "execution_count": null,
      "outputs": [
        {
          "output_type": "stream",
          "name": "stdout",
          "text": [
            "O nome é Joilton e sua idade é 30 anos\n"
          ]
        }
      ]
    },
    {
      "cell_type": "code",
      "source": [
        "print(f'o nome é {nome} e sua idade é {idade} anos')"
      ],
      "metadata": {
        "colab": {
          "base_uri": "https://localhost:8080/"
        },
        "id": "oC1mkSvVlo6a",
        "outputId": "d7e3a6c6-970d-4096-e5d8-cc4a728d1bf6"
      },
      "execution_count": null,
      "outputs": [
        {
          "output_type": "stream",
          "name": "stdout",
          "text": [
            "o nome é Joilton e sua idade é 42 anos\n"
          ]
        }
      ]
    },
    {
      "cell_type": "code",
      "source": [
        "idade = 42\n"
      ],
      "metadata": {
        "id": "hm35hukumNyA"
      },
      "execution_count": null,
      "outputs": []
    },
    {
      "cell_type": "code",
      "source": [],
      "metadata": {
        "id": "9XtHlCrOmTkh"
      },
      "execution_count": null,
      "outputs": []
    },
    {
      "cell_type": "code",
      "source": [],
      "metadata": {
        "id": "_FtcAD4YmpMz"
      },
      "execution_count": null,
      "outputs": []
    },
    {
      "cell_type": "markdown",
      "source": [
        "## **Criando minha primeira função**"
      ],
      "metadata": {
        "id": "HWeSXy_ymc9F"
      }
    },
    {
      "cell_type": "code",
      "source": [
        "def saudacao():\n",
        "  nome =input('Qual o seu nome? ')\n",
        "  print(f'Olá {nome}')"
      ],
      "metadata": {
        "id": "ZcthMHQEnBMv"
      },
      "execution_count": null,
      "outputs": []
    },
    {
      "cell_type": "code",
      "source": [
        "saudacao()"
      ],
      "metadata": {
        "colab": {
          "base_uri": "https://localhost:8080/"
        },
        "id": "QqpVILWqnmJz",
        "outputId": "a9de4053-2455-49fb-be62-76415ad094c2"
      },
      "execution_count": null,
      "outputs": [
        {
          "output_type": "stream",
          "name": "stdout",
          "text": [
            "Qual o seu nome? Beto\n",
            "Olá Beto\n"
          ]
        }
      ]
    },
    {
      "cell_type": "code",
      "source": [
        "def mensagem():\n",
        "  nome = input('Qual o seu nome? ')\n",
        "  print(f'Olá!Tudo bem {nome}')\n",
        "  idade = input('Qual a sua idade? ')\n",
        "  print(f'{idade} anos')\n"
      ],
      "metadata": {
        "id": "7lDaKDx1nt77"
      },
      "execution_count": null,
      "outputs": []
    },
    {
      "cell_type": "code",
      "source": [
        "mensagem()"
      ],
      "metadata": {
        "colab": {
          "base_uri": "https://localhost:8080/"
        },
        "id": "w9P1eM_YpvSF",
        "outputId": "b4c270b4-3d80-44ef-8fd9-2e1295f355ee"
      },
      "execution_count": null,
      "outputs": [
        {
          "output_type": "stream",
          "name": "stdout",
          "text": [
            "Qual o seu nome? Joilton\n",
            "Olá!Tudo bem Joilton\n",
            "Qual a sua idade? 41\n",
            "41 anos\n"
          ]
        }
      ]
    },
    {
      "cell_type": "code",
      "source": [
        "def nome_completo():\n",
        "  primeiro_nome = input('Qual seu primeiro nome? ')\n",
        "  sobrenome = input ('Qual o seu sobrenome? ')\n",
        "  nome_inteiro = primeiro_nome + ' ' + sobrenome\n",
        "  print(nome_inteiro)\n",
        "\n"
      ],
      "metadata": {
        "id": "Z10xPoKrqJii"
      },
      "execution_count": null,
      "outputs": []
    },
    {
      "cell_type": "code",
      "source": [
        "nome_completo()"
      ],
      "metadata": {
        "colab": {
          "base_uri": "https://localhost:8080/"
        },
        "id": "zBZF3elLrCuz",
        "outputId": "682a5a2e-9536-4979-af98-3ab2b04279b3"
      },
      "execution_count": null,
      "outputs": [
        {
          "output_type": "stream",
          "name": "stdout",
          "text": [
            "Qual seu primeiro nome? Joilton\n",
            "Qual o seu sobrenome? Macedo\n",
            "Joilton Macedo\n"
          ]
        }
      ]
    },
    {
      "cell_type": "code",
      "source": [],
      "metadata": {
        "id": "e7eapVrFW-Tr"
      },
      "execution_count": null,
      "outputs": []
    },
    {
      "cell_type": "markdown",
      "source": [
        "#**Parâmetros**"
      ],
      "metadata": {
        "id": "d5Bw_kT0XYxj"
      }
    },
    {
      "cell_type": "code",
      "source": [
        "nome = 'Ton, ' 'Beto '  'e ' 'Max'\n"
      ],
      "metadata": {
        "id": "AboCpFqzYGlt"
      },
      "execution_count": 27,
      "outputs": []
    },
    {
      "cell_type": "code",
      "source": [
        "def saudacao_com_parametros (nome_da_pessoa):\n",
        "  print(f'Olá {nome_da_pessoa}')\n",
        "\n"
      ],
      "metadata": {
        "id": "-zlEPhVhXnMr"
      },
      "execution_count": 28,
      "outputs": []
    },
    {
      "cell_type": "code",
      "source": [
        "saudacao_com_parametros(nome)"
      ],
      "metadata": {
        "colab": {
          "base_uri": "https://localhost:8080/"
        },
        "id": "RlLqxn79Y8OP",
        "outputId": "eb75d11e-2ce6-47d6-ebd4-fa845c89e08a"
      },
      "execution_count": 29,
      "outputs": [
        {
          "output_type": "stream",
          "name": "stdout",
          "text": [
            "Olá Ton, Beto e Max\n"
          ]
        }
      ]
    },
    {
      "cell_type": "code",
      "source": [],
      "metadata": {
        "id": "25i_6hjTZCyn"
      },
      "execution_count": null,
      "outputs": []
    },
    {
      "cell_type": "markdown",
      "source": [
        "# **Condicional**"
      ],
      "metadata": {
        "id": "cqdPyBbiZ7YC"
      }
    },
    {
      "cell_type": "code",
      "source": [
        "idade = 17\n",
        "def verifica_se_pode_dirigir(idade):\n",
        "  if idade >= 18:\n",
        "    print('Tem permisão para dirigir')\n",
        "  else:\n",
        "    print('Não tem permisão para dirigir')\n",
        "\n",
        "verifica_se_pode_dirigir(idade)"
      ],
      "metadata": {
        "colab": {
          "base_uri": "https://localhost:8080/"
        },
        "id": "PRgSAH64aCI-",
        "outputId": "4a58957f-837a-4d5e-b572-2286195b30a2"
      },
      "execution_count": 35,
      "outputs": [
        {
          "output_type": "stream",
          "name": "stdout",
          "text": [
            "Não tem permisão para dirigir\n"
          ]
        }
      ]
    },
    {
      "cell_type": "markdown",
      "source": [
        "# **Convertendo texto para inteiro**"
      ],
      "metadata": {
        "id": "TP2rfmiFdGrJ"
      }
    },
    {
      "cell_type": "code",
      "source": [
        "def verifica_se_pode_dirigir_sem_parametros():\n",
        "  idade = input ('Qual a sua idade??? ')\n",
        "  idade = int (idade)\n",
        "  if idade >= 18:\n",
        "    print ('Tem permissão para dirigir')\n",
        "  else:\n",
        "    print('Não tem permissão para dirigir')\n",
        "verifica_se_pode_dirigir_sem_parametros()\n",
        ""
      ],
      "metadata": {
        "colab": {
          "base_uri": "https://localhost:8080/"
        },
        "id": "DFmMPSw1bmme",
        "outputId": "7e312b75-19c8-4e60-a642-80ccb6e0ac43"
      },
      "execution_count": 40,
      "outputs": [
        {
          "output_type": "stream",
          "name": "stdout",
          "text": [
            "Qual a sua idade??? 12\n",
            "Não tem permissão para dirigir\n"
          ]
        }
      ]
    },
    {
      "cell_type": "code",
      "source": [],
      "metadata": {
        "id": "kkxrZUD1dSD0"
      },
      "execution_count": null,
      "outputs": []
    },
    {
      "cell_type": "markdown",
      "source": [
        "# Exercicio"
      ],
      "metadata": {
        "id": "6WALfrked5KU"
      }
    },
    {
      "cell_type": "code",
      "source": [
        "\n",
        "def calcula_velocidade_media(espaco, tempo):\n",
        "  v = espaco / tempo\n",
        "  print(f'velocidade: {v} m/s')\n",
        "\n",
        "calcula_velocidade_media(100, 20)\n",
        "\n"
      ],
      "metadata": {
        "colab": {
          "base_uri": "https://localhost:8080/"
        },
        "id": "z4tfhbzbeTSt",
        "outputId": "6392a835-be13-492f-879d-73fae2806f70"
      },
      "execution_count": 44,
      "outputs": [
        {
          "output_type": "stream",
          "name": "stdout",
          "text": [
            "velocidade: 5.0 m/s\n"
          ]
        }
      ]
    },
    {
      "cell_type": "markdown",
      "source": [
        "# Lista"
      ],
      "metadata": {
        "id": "rGvH1DEth2Cy"
      }
    },
    {
      "cell_type": "code",
      "source": [
        "idade = 22\n",
        "idade\n"
      ],
      "metadata": {
        "colab": {
          "base_uri": "https://localhost:8080/"
        },
        "id": "TA2LFOMHh7wt",
        "outputId": "1e475993-38be-411f-f7ce-acb02f731462"
      },
      "execution_count": 45,
      "outputs": [
        {
          "output_type": "execute_result",
          "data": {
            "text/plain": [
              "22"
            ]
          },
          "metadata": {},
          "execution_count": 45
        }
      ]
    },
    {
      "cell_type": "code",
      "source": [
        "type(idade)"
      ],
      "metadata": {
        "colab": {
          "base_uri": "https://localhost:8080/"
        },
        "id": "rwSd2cURiD9N",
        "outputId": "0aef9e70-efb2-4347-b975-d81efc5559b7"
      },
      "execution_count": 46,
      "outputs": [
        {
          "output_type": "execute_result",
          "data": {
            "text/plain": [
              "int"
            ]
          },
          "metadata": {},
          "execution_count": 46
        }
      ]
    },
    {
      "cell_type": "code",
      "source": [
        "nome = 'Ton'\n",
        "type(nome)"
      ],
      "metadata": {
        "colab": {
          "base_uri": "https://localhost:8080/"
        },
        "id": "NS6DyxKDiPNq",
        "outputId": "6b70031e-3c95-4a93-a88d-f3057bf323e6"
      },
      "execution_count": 47,
      "outputs": [
        {
          "output_type": "execute_result",
          "data": {
            "text/plain": [
              "str"
            ]
          },
          "metadata": {},
          "execution_count": 47
        }
      ]
    },
    {
      "cell_type": "code",
      "source": [
        "idades = [18, 22, 41, 50, 42, 12, 50, 24]\n",
        "type(idades)"
      ],
      "metadata": {
        "colab": {
          "base_uri": "https://localhost:8080/"
        },
        "id": "APD-6Ly5iY2t",
        "outputId": "01cd85b2-735f-43ba-d082-d50cc33bd71a"
      },
      "execution_count": 61,
      "outputs": [
        {
          "output_type": "execute_result",
          "data": {
            "text/plain": [
              "list"
            ]
          },
          "metadata": {},
          "execution_count": 61
        }
      ]
    },
    {
      "cell_type": "code",
      "source": [
        "idades[0]"
      ],
      "metadata": {
        "colab": {
          "base_uri": "https://localhost:8080/"
        },
        "id": "gRwCGtb3ikyw",
        "outputId": "e315c1fb-ac77-44b9-f38e-07c380522272"
      },
      "execution_count": 55,
      "outputs": [
        {
          "output_type": "execute_result",
          "data": {
            "text/plain": [
              "18"
            ]
          },
          "metadata": {},
          "execution_count": 55
        }
      ]
    },
    {
      "cell_type": "code",
      "source": [
        "idades[0:3]"
      ],
      "metadata": {
        "colab": {
          "base_uri": "https://localhost:8080/"
        },
        "id": "LNT9Nrfhi-ct",
        "outputId": "d86779b5-b4df-4dc9-ec98-5748afeffc87"
      },
      "execution_count": 56,
      "outputs": [
        {
          "output_type": "execute_result",
          "data": {
            "text/plain": [
              "[18, 22, 41]"
            ]
          },
          "metadata": {},
          "execution_count": 56
        }
      ]
    },
    {
      "cell_type": "code",
      "source": [
        "idades[2:]"
      ],
      "metadata": {
        "colab": {
          "base_uri": "https://localhost:8080/"
        },
        "id": "8YbI_XP7jLe5",
        "outputId": "f2523d8e-daeb-4f52-e8da-efe140270822"
      },
      "execution_count": 57,
      "outputs": [
        {
          "output_type": "execute_result",
          "data": {
            "text/plain": [
              "[41, 50, 42, 12]"
            ]
          },
          "metadata": {},
          "execution_count": 57
        }
      ]
    },
    {
      "cell_type": "code",
      "source": [
        "idades[-1]"
      ],
      "metadata": {
        "colab": {
          "base_uri": "https://localhost:8080/"
        },
        "id": "sjflkPV9jREz",
        "outputId": "a82a3a8e-6887-45f7-dcec-c9a03ce0b667"
      },
      "execution_count": 62,
      "outputs": [
        {
          "output_type": "execute_result",
          "data": {
            "text/plain": [
              "24"
            ]
          },
          "metadata": {},
          "execution_count": 62
        }
      ]
    },
    {
      "cell_type": "markdown",
      "source": [
        "# **Laços e loops**"
      ],
      "metadata": {
        "id": "MEOb9RUPj-7w"
      }
    },
    {
      "cell_type": "code",
      "source": [
        "# for\n"
      ],
      "metadata": {
        "id": "4yMKjrI3kHdO"
      },
      "execution_count": 63,
      "outputs": []
    },
    {
      "cell_type": "code",
      "source": [
        "idades = [41, 15, 17, 100, 33, 12, 25, 18, 13, 98]"
      ],
      "metadata": {
        "id": "wvW0uWRalXrk"
      },
      "execution_count": 67,
      "outputs": []
    },
    {
      "cell_type": "code",
      "source": [
        "def verifica_se_pode_dirigir(idades):\n",
        "  for idade in idades:\n",
        "    if idade >=18:\n",
        "      print(f'Sua idade é {idade} anos.Você TEM permissão para dirigir!')\n",
        "    else:\n",
        "      print(f'Sua idade é {idade} anos.Você NÃO TEM permissão para dirigir!')\n",
        "\n",
        "verifica_se_pode_dirigir(idades)\n"
      ],
      "metadata": {
        "colab": {
          "base_uri": "https://localhost:8080/"
        },
        "id": "fwUWr3VxloWl",
        "outputId": "82496ca8-977c-4edd-bbb7-81b5e43d2d26"
      },
      "execution_count": 68,
      "outputs": [
        {
          "output_type": "stream",
          "name": "stdout",
          "text": [
            "Sua idade é 41 anos.Você TEM permissão para dirigir!\n",
            "Sua idade é 15 anos.Você NÃO TEM permissão para dirigir!\n",
            "Sua idade é 17 anos.Você NÃO TEM permissão para dirigir!\n",
            "Sua idade é 100 anos.Você TEM permissão para dirigir!\n",
            "Sua idade é 33 anos.Você TEM permissão para dirigir!\n",
            "Sua idade é 12 anos.Você NÃO TEM permissão para dirigir!\n",
            "Sua idade é 25 anos.Você TEM permissão para dirigir!\n",
            "Sua idade é 18 anos.Você TEM permissão para dirigir!\n",
            "Sua idade é 13 anos.Você NÃO TEM permissão para dirigir!\n",
            "Sua idade é 98 anos.Você TEM permissão para dirigir!\n"
          ]
        }
      ]
    },
    {
      "cell_type": "code",
      "source": [],
      "metadata": {
        "id": "1iXMbcmCm0jb"
      },
      "execution_count": null,
      "outputs": []
    },
    {
      "cell_type": "markdown",
      "source": [
        "# **Boleano**"
      ],
      "metadata": {
        "id": "DJoaPklAm30y"
      }
    },
    {
      "cell_type": "code",
      "source": [
        "idade = 18\n",
        "idade >= 18"
      ],
      "metadata": {
        "colab": {
          "base_uri": "https://localhost:8080/"
        },
        "id": "HMy5ZaEJm78k",
        "outputId": "6a9d6d06-da18-4166-f396-4b11b36e33e7"
      },
      "execution_count": 71,
      "outputs": [
        {
          "output_type": "execute_result",
          "data": {
            "text/plain": [
              "True"
            ]
          },
          "metadata": {},
          "execution_count": 71
        }
      ]
    },
    {
      "cell_type": "code",
      "source": [
        "idade = 15\n",
        "idade >= 18"
      ],
      "metadata": {
        "colab": {
          "base_uri": "https://localhost:8080/"
        },
        "id": "xAvJed8RnLmP",
        "outputId": "02038e86-caa9-4aae-91c6-334a0caabff9"
      },
      "execution_count": 72,
      "outputs": [
        {
          "output_type": "execute_result",
          "data": {
            "text/plain": [
              "False"
            ]
          },
          "metadata": {},
          "execution_count": 72
        }
      ]
    },
    {
      "cell_type": "code",
      "source": [
        "permissoes = []\n",
        "idades = [20, 14, 40, 13, 33]\n",
        "def verifica_se_pode_dirigir(idades, permissoes):\n",
        "  for idade in idades:\n",
        "    if idade >= 18:\n",
        "      permissoes.append(True)\n",
        "    else:\n",
        "      permissoes.append(False)\n",
        "verifica_se_pode_dirigir(idades, permissoes)\n",
        "\n"
      ],
      "metadata": {
        "id": "hd_v0vAonSxs"
      },
      "execution_count": 78,
      "outputs": []
    },
    {
      "cell_type": "code",
      "source": [
        "permissoes"
      ],
      "metadata": {
        "colab": {
          "base_uri": "https://localhost:8080/"
        },
        "id": "LSfgMOMuoP4d",
        "outputId": "865b331a-00ae-439c-c0b2-2bbcda326c9e"
      },
      "execution_count": 79,
      "outputs": [
        {
          "output_type": "execute_result",
          "data": {
            "text/plain": [
              "[True, False, True, False, True]"
            ]
          },
          "metadata": {},
          "execution_count": 79
        }
      ]
    },
    {
      "cell_type": "code",
      "source": [
        "for permissao in permissoes:\n",
        "  if permissao == True:\n",
        "    print(f'Tem permissão para dirigir')\n",
        "  else:\n",
        "    print(f'Não tem permissão para dirigir')\n",
        "\n",
        "\n",
        ""
      ],
      "metadata": {
        "colab": {
          "base_uri": "https://localhost:8080/"
        },
        "id": "wveinJvxoTkc",
        "outputId": "3af92355-57fb-4d4f-e460-c289a3611488"
      },
      "execution_count": 80,
      "outputs": [
        {
          "output_type": "stream",
          "name": "stdout",
          "text": [
            "Tem permissão para dirigir\n",
            "Não tem permissão para dirigir\n",
            "Tem permissão para dirigir\n",
            "Não tem permissão para dirigir\n",
            "Tem permissão para dirigir\n"
          ]
        }
      ]
    },
    {
      "cell_type": "markdown",
      "source": [
        "# **Exercicio**"
      ],
      "metadata": {
        "id": "Us6tA-JUpeRk"
      }
    },
    {
      "cell_type": "code",
      "source": [
        "frase_alura = [' Digitais', 'e ', 'Negócios ', 'de ', 'Tecnologia ', 'Cursos ']\n"
      ],
      "metadata": {
        "id": "5caVai-9pkUl"
      },
      "execution_count": 83,
      "outputs": []
    },
    {
      "cell_type": "code",
      "source": [
        "frase_alura = [5, 3, 4, 1, 2, 0]"
      ],
      "metadata": {
        "id": "_WXr9Xc4p45F"
      },
      "execution_count": 84,
      "outputs": []
    },
    {
      "cell_type": "markdown",
      "source": [
        "# **Float**"
      ],
      "metadata": {
        "id": "KjBTuEO7rouX"
      }
    },
    {
      "cell_type": "code",
      "source": [
        "pi = 3.14\n",
        "type(pi)"
      ],
      "metadata": {
        "colab": {
          "base_uri": "https://localhost:8080/"
        },
        "id": "v5ghV0AKruAw",
        "outputId": "56f0f2a9-63ac-4ba3-8319-514029388e55"
      },
      "execution_count": 86,
      "outputs": [
        {
          "output_type": "execute_result",
          "data": {
            "text/plain": [
              "float"
            ]
          },
          "metadata": {},
          "execution_count": 86
        }
      ]
    }
  ]
}