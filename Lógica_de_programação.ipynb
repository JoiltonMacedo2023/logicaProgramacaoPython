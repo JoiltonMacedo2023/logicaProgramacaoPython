{
  "nbformat": 4,
  "nbformat_minor": 0,
  "metadata": {
    "colab": {
      "provenance": [],
      "authorship_tag": "ABX9TyPwul8m4ITgxopZA7RLDpxL",
      "include_colab_link": true
    },
    "kernelspec": {
      "name": "python3",
      "display_name": "Python 3"
    },
    "language_info": {
      "name": "python"
    }
  },
  "cells": [
    {
      "cell_type": "markdown",
      "metadata": {
        "id": "view-in-github",
        "colab_type": "text"
      },
      "source": [
        "<a href=\"https://colab.research.google.com/github/JoiltonMacedo2023/logicaProgramacaoPython/blob/main/L%C3%B3gica_de_programa%C3%A7%C3%A3o.ipynb\" target=\"_parent\"><img src=\"https://colab.research.google.com/assets/colab-badge.svg\" alt=\"Open In Colab\"/></a>"
      ]
    },
    {
      "cell_type": "markdown",
      "source": [
        "## **Lógica de programação com python**"
      ],
      "metadata": {
        "id": "DRHQj6gikps4"
      }
    },
    {
      "cell_type": "code",
      "source": [
        "1 * 2"
      ],
      "metadata": {
        "colab": {
          "base_uri": "https://localhost:8080/"
        },
        "id": "25AjEIL3kime",
        "outputId": "79a0b291-a551-4bc3-a67d-272eecca3bed"
      },
      "execution_count": 1,
      "outputs": [
        {
          "output_type": "execute_result",
          "data": {
            "text/plain": [
              "2"
            ]
          },
          "metadata": {},
          "execution_count": 1
        }
      ]
    },
    {
      "cell_type": "code",
      "source": [
        "\"ton\""
      ],
      "metadata": {
        "colab": {
          "base_uri": "https://localhost:8080/",
          "height": 35
        },
        "id": "keMs2-Mbk15q",
        "outputId": "64185977-1ad1-4e26-dc9a-031820f3c13d"
      },
      "execution_count": 2,
      "outputs": [
        {
          "output_type": "execute_result",
          "data": {
            "text/plain": [
              "'ton'"
            ],
            "application/vnd.google.colaboratory.intrinsic+json": {
              "type": "string"
            }
          },
          "metadata": {},
          "execution_count": 2
        }
      ]
    },
    {
      "cell_type": "code",
      "source": [
        "nome = 'Joilton'"
      ],
      "metadata": {
        "id": "Mj9IP91Ik9Hg"
      },
      "execution_count": 3,
      "outputs": []
    },
    {
      "cell_type": "code",
      "source": [
        "nome"
      ],
      "metadata": {
        "colab": {
          "base_uri": "https://localhost:8080/",
          "height": 35
        },
        "id": "jFHwN9CYlEoF",
        "outputId": "29e9eeeb-1fa1-4119-ca1f-4e0984af93f7"
      },
      "execution_count": 4,
      "outputs": [
        {
          "output_type": "execute_result",
          "data": {
            "text/plain": [
              "'Joilton'"
            ],
            "application/vnd.google.colaboratory.intrinsic+json": {
              "type": "string"
            }
          },
          "metadata": {},
          "execution_count": 4
        }
      ]
    },
    {
      "cell_type": "code",
      "source": [
        "idade = 41"
      ],
      "metadata": {
        "id": "5VNEjlCOlHbn"
      },
      "execution_count": 5,
      "outputs": []
    },
    {
      "cell_type": "code",
      "source": [
        "idade"
      ],
      "metadata": {
        "colab": {
          "base_uri": "https://localhost:8080/"
        },
        "id": "3WfuUYcvlKLt",
        "outputId": "499f30df-259c-4aa5-975a-a0e231a4347c"
      },
      "execution_count": 6,
      "outputs": [
        {
          "output_type": "execute_result",
          "data": {
            "text/plain": [
              "41"
            ]
          },
          "metadata": {},
          "execution_count": 6
        }
      ]
    },
    {
      "cell_type": "code",
      "source": [
        "print('O nome é Joilton e sua idade é 30 anos')"
      ],
      "metadata": {
        "colab": {
          "base_uri": "https://localhost:8080/"
        },
        "id": "kPfU6WaflL72",
        "outputId": "64973efb-dff5-4851-c5e6-28ffc2cdc832"
      },
      "execution_count": 7,
      "outputs": [
        {
          "output_type": "stream",
          "name": "stdout",
          "text": [
            "O nome é Joilton e sua idade é 30 anos\n"
          ]
        }
      ]
    },
    {
      "cell_type": "code",
      "source": [
        "print(f'o nome é {nome} e sua idade é {idade} anos')"
      ],
      "metadata": {
        "colab": {
          "base_uri": "https://localhost:8080/"
        },
        "id": "oC1mkSvVlo6a",
        "outputId": "d7e3a6c6-970d-4096-e5d8-cc4a728d1bf6"
      },
      "execution_count": 10,
      "outputs": [
        {
          "output_type": "stream",
          "name": "stdout",
          "text": [
            "o nome é Joilton e sua idade é 42 anos\n"
          ]
        }
      ]
    },
    {
      "cell_type": "code",
      "source": [
        "idade = 42\n"
      ],
      "metadata": {
        "id": "hm35hukumNyA"
      },
      "execution_count": 9,
      "outputs": []
    },
    {
      "cell_type": "code",
      "source": [],
      "metadata": {
        "id": "9XtHlCrOmTkh"
      },
      "execution_count": 10,
      "outputs": []
    },
    {
      "cell_type": "code",
      "source": [],
      "metadata": {
        "id": "_FtcAD4YmpMz"
      },
      "execution_count": null,
      "outputs": []
    },
    {
      "cell_type": "markdown",
      "source": [
        "## **Criando minha primeira função**"
      ],
      "metadata": {
        "id": "HWeSXy_ymc9F"
      }
    },
    {
      "cell_type": "code",
      "source": [
        "def saudacao():\n",
        "  nome =input('Qual o seu nome? ')\n",
        "  print(f'Olá {nome}')"
      ],
      "metadata": {
        "id": "ZcthMHQEnBMv"
      },
      "execution_count": 16,
      "outputs": []
    },
    {
      "cell_type": "code",
      "source": [
        "saudacao()"
      ],
      "metadata": {
        "colab": {
          "base_uri": "https://localhost:8080/"
        },
        "id": "QqpVILWqnmJz",
        "outputId": "a9de4053-2455-49fb-be62-76415ad094c2"
      },
      "execution_count": 17,
      "outputs": [
        {
          "output_type": "stream",
          "name": "stdout",
          "text": [
            "Qual o seu nome? Beto\n",
            "Olá Beto\n"
          ]
        }
      ]
    },
    {
      "cell_type": "code",
      "source": [
        "def mensagem():\n",
        "  nome = input('Qual o seu nome? ')\n",
        "  print(f'Olá!Tudo bem {nome}')\n",
        "  idade = input('Qual a sua idade? ')\n",
        "  print(f'{idade} anos')\n",
        ""
      ],
      "metadata": {
        "id": "7lDaKDx1nt77"
      },
      "execution_count": 19,
      "outputs": []
    },
    {
      "cell_type": "code",
      "source": [
        "mensagem()"
      ],
      "metadata": {
        "colab": {
          "base_uri": "https://localhost:8080/"
        },
        "id": "w9P1eM_YpvSF",
        "outputId": "b4c270b4-3d80-44ef-8fd9-2e1295f355ee"
      },
      "execution_count": 20,
      "outputs": [
        {
          "output_type": "stream",
          "name": "stdout",
          "text": [
            "Qual o seu nome? Joilton\n",
            "Olá!Tudo bem Joilton\n",
            "Qual a sua idade? 41\n",
            "41 anos\n"
          ]
        }
      ]
    },
    {
      "cell_type": "code",
      "source": [
        "def nome_completo():\n",
        "  primeiro_nome = input('Qual seu primeiro nome? ')\n",
        "  sobrenome = input ('Qual o seu sobrenome? ')\n",
        "  nome_inteiro = primeiro_nome + ' ' + sobrenome\n",
        "  print(nome_inteiro)\n",
        "\n"
      ],
      "metadata": {
        "id": "Z10xPoKrqJii"
      },
      "execution_count": 23,
      "outputs": []
    },
    {
      "cell_type": "code",
      "source": [
        "nome_completo()"
      ],
      "metadata": {
        "colab": {
          "base_uri": "https://localhost:8080/"
        },
        "id": "zBZF3elLrCuz",
        "outputId": "682a5a2e-9536-4979-af98-3ab2b04279b3"
      },
      "execution_count": 24,
      "outputs": [
        {
          "output_type": "stream",
          "name": "stdout",
          "text": [
            "Qual seu primeiro nome? Joilton\n",
            "Qual o seu sobrenome? Macedo\n",
            "Joilton Macedo\n"
          ]
        }
      ]
    }
  ]
}